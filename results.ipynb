{
 "cells": [
  {
   "cell_type": "code",
   "execution_count": null,
   "metadata": {},
   "outputs": [],
   "source": [
    "# Libs\n",
    "import matplotlib.pyplot as plt\n",
    "import numpy as np\n",
    "import pandas as pd"
   ]
  },
  {
   "cell_type": "code",
   "execution_count": null,
   "metadata": {},
   "outputs": [],
   "source": [
    "# Count & Types"
   ]
  },
  {
   "cell_type": "code",
   "execution_count": null,
   "metadata": {},
   "outputs": [],
   "source": [
    "# QUERY 1   \n",
    "df = pd.read_csv('./results/exec_times.csv')\n",
    "\n",
    "# Query 1 | q1_df, q1_sql\n",
    "q1_df = df[df['Name'] == 'q1_df']\n",
    "q1_sql = df[df['Name'] == 'q1_sql']\n",
    "\n",
    "x = np.array(['Dataframe API','SQL API'])\n",
    "y = np.array([q1_df.values[0][1], q1_sql.values[0][1]])\n",
    "\n",
    "plt.bar(x,y)\n",
    "plt.xlabel('Query Type')\n",
    "plt.ylabel('Execution Time')\n",
    "plt.title('Query 1')\n",
    "plt.show()"
   ]
  },
  {
   "cell_type": "code",
   "execution_count": null,
   "metadata": {},
   "outputs": [],
   "source": [
    "\n"
   ]
  }
 ],
 "metadata": {
  "kernelspec": {
   "display_name": "venv",
   "language": "python",
   "name": "python3"
  },
  "language_info": {
   "codemirror_mode": {
    "name": "ipython",
    "version": 3
   },
   "file_extension": ".py",
   "mimetype": "text/x-python",
   "name": "python",
   "nbconvert_exporter": "python",
   "pygments_lexer": "ipython3",
   "version": "3.10.12"
  }
 },
 "nbformat": 4,
 "nbformat_minor": 2
}
