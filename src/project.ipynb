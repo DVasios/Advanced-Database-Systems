{
 "cells": [
  {
   "cell_type": "markdown",
   "id": "8595e621",
   "metadata": {},
   "source": [
    "# Advanced Database Systems - NTUA - 2023\n",
    "\n",
    "\n",
    "## Project Scope\n",
    "\n",
    "## \n",
    "\n",
    "### Contributors\n",
    "\n",
    "Dimitris Vasios el19404\n",
    "\n",
    "Thodoris Mexis "
   ]
  },
  {
   "cell_type": "markdown",
   "id": "e8a63360",
   "metadata": {},
   "source": [
    "### Script to enable the cluster\n",
    "**Cluster Specification**\n",
    "\n",
    "Namenode\n",
    "\n",
    "Datanodes"
   ]
  },
  {
   "cell_type": "code",
   "execution_count": 14,
   "id": "fdfbf5e6-14ae-4b72-a1a3-a646a1e3a3d4",
   "metadata": {},
   "outputs": [],
   "source": [
    "# Library Imports\n",
    "from pyspark.sql import SparkSession\n",
    "from pyspark.sql.types import StructField, StructType, IntegerType, FloatType, StringType, DateType, DoubleType, TimestampType, TimestampNTZType\n",
    "from pyspark.sql.functions import col, count, to_timestamp\n",
    "import subprocess as sp\n",
    "import pandas as pd"
   ]
  },
  {
   "cell_type": "code",
   "execution_count": null,
   "id": "2f317561",
   "metadata": {},
   "outputs": [],
   "source": [
    "# Download necessary data for the project\n",
    "sp.call(['bash', '../scripts/import_data.sh'])"
   ]
  },
  {
   "cell_type": "code",
   "execution_count": null,
   "id": "cbe07f94",
   "metadata": {},
   "outputs": [],
   "source": [
    "# Start Cluster\n",
    "sp.call(['bash', '../scripts/cluster_initiate.sh'])"
   ]
  },
  {
   "cell_type": "code",
   "execution_count": 2,
   "id": "6282222f",
   "metadata": {},
   "outputs": [],
   "source": [
    "# Combine Primary Data into one csv\n",
    "crime_data_2010_2019 = pd.read_csv('../data/primary/crime_data_2010_2019.csv')\n",
    "crime_data_2020_present = pd.read_csv('../data/primary/crime_data_2020_present.csv')\n",
    "crime_data = pd.concat([crime_data_2010_2019, crime_data_2020_present], ignore_index=True)\n",
    "crime_data.to_csv('../data/primary/crime_data.csv')"
   ]
  },
  {
   "cell_type": "code",
   "execution_count": 6,
   "id": "39a379c9",
   "metadata": {},
   "outputs": [
    {
     "name": "stderr",
     "output_type": "stream",
     "text": [
      "put: `/user/data/secondary/revgecoding.csv': File exists\n",
      "put: `/user/data/secondary/LAPD_Police_Stations.csv': File exists\n",
      "put: `/user/data/secondary/median_household_incomes/LA_income_2015.csv': File exists\n",
      "put: `/user/data/secondary/median_household_incomes/LA_income_2021.csv': File exists\n",
      "put: `/user/data/secondary/median_household_incomes/LA_income_2019.csv': File exists\n",
      "put: `/user/data/secondary/median_household_incomes/LA_income_2017.csv': File exists\n",
      "put: `/user/data/text.txt': File exists\n",
      "put: `/user/data/primary/crime_data_2020_present.csv': File exists\n",
      "put: `/user/data/primary/crime_data_2010_2019.csv': File exists\n"
     ]
    },
    {
     "data": {
      "text/plain": [
       "1"
      ]
     },
     "execution_count": 6,
     "metadata": {},
     "output_type": "execute_result"
    }
   ],
   "source": [
    "# Load Data to HDFS\n",
    "sp.call(['bash', '../scripts/load_data_to_hdfs.sh'])"
   ]
  },
  {
   "cell_type": "code",
   "execution_count": 3,
   "id": "8667758a-80a5-4331-bf2a-d455d43a4ad4",
   "metadata": {},
   "outputs": [
    {
     "name": "stderr",
     "output_type": "stream",
     "text": [
      "Setting default log level to \"WARN\".\n",
      "To adjust logging level use sc.setLogLevel(newLevel). For SparkR, use setLogLevel(newLevel).\n",
      "24/01/03 23:03:07 WARN NativeCodeLoader: Unable to load native-hadoop library for your platform... using builtin-java classes where applicable\n",
      "24/01/03 23:03:36 WARN Client: Neither spark.yarn.jars nor spark.yarn.archive is set, falling back to uploading libraries under SPARK_HOME.\n"
     ]
    }
   ],
   "source": [
    "# Start a Spark Session\n",
    "sc = SparkSession \\\n",
    "    .builder \\\n",
    "    .appName(\"Standard Query\") \\\n",
    "    .getOrCreate() "
   ]
  },
  {
   "cell_type": "code",
   "execution_count": 30,
   "id": "4de184b8",
   "metadata": {},
   "outputs": [
    {
     "name": "stderr",
     "output_type": "stream",
     "text": [
      "[Stage 44:=======================>                                  (2 + 2) / 5]\r"
     ]
    },
    {
     "name": "stdout",
     "output_type": "stream",
     "text": [
      "Crime Data Total Rows : 2135775\n",
      "Date Rptd: [('DR_NO', 'int'), ('Date Rptd', 'string'), ('DATE OCC', 'string'), ('TIME OCC', 'int'), ('AREA', 'int'), ('AREA NAME', 'string'), ('Rpt Dist No', 'int'), ('Part 1-2', 'int'), ('Crm Cd', 'int'), ('Crm Cd Desc', 'string'), ('Mocodes', 'string'), ('Vict Age', 'int'), ('Vict Sex', 'string'), ('Vict Descent', 'string'), ('Premis Cd', 'int'), ('Premis Desc', 'string'), ('Weapon Used Cd', 'int'), ('Weapon Desc', 'string'), ('Status', 'string'), ('Status Desc', 'string'), ('Crm Cd 1', 'int'), ('Crm Cd 2', 'int'), ('Crm Cd 3', 'int'), ('Crm Cd 4', 'int'), ('LOCATION', 'string'), ('Cross Street', 'string'), ('LAT', 'double'), ('LON', 'double'), ('timestamp', 'timestamp')]\n"
     ]
    },
    {
     "name": "stderr",
     "output_type": "stream",
     "text": [
      "                                                                                \r"
     ]
    }
   ],
   "source": [
    "# Crime Data Schema\n",
    "crime_data_schema = StructType([\n",
    "    StructField(\"DR_NO\", IntegerType()),\n",
    "    StructField(\"Date Rptd\", StringType()),\n",
    "    StructField(\"DATE OCC\", StringType()),\n",
    "    StructField(\"TIME OCC\", IntegerType()),\n",
    "    StructField(\"AREA\", IntegerType()),\n",
    "    StructField(\"AREA NAME\", StringType()),\n",
    "    StructField(\"Rpt Dist No\", IntegerType()),\n",
    "    StructField(\"Part 1-2\", IntegerType()),\n",
    "    StructField(\"Crm Cd\", IntegerType()),\n",
    "    StructField(\"Crm Cd Desc\", StringType()),\n",
    "    StructField(\"Mocodes\", StringType()),\n",
    "    StructField(\"Vict Age\", IntegerType()),\n",
    "    StructField(\"Vict Sex\", StringType()),\n",
    "    StructField(\"Vict Descent\", StringType()),\n",
    "    StructField(\"Premis Cd\", IntegerType()),\n",
    "    StructField(\"Premis Desc\", StringType()),\n",
    "    StructField(\"Weapon Used Cd\", IntegerType()),\n",
    "    StructField(\"Weapon Desc\", StringType()),\n",
    "    StructField(\"Status\", StringType()),\n",
    "    StructField(\"Status Desc\", StringType()),\n",
    "    StructField(\"Crm Cd 1\", IntegerType()),\n",
    "    StructField(\"Crm Cd 2\", IntegerType()),\n",
    "    StructField(\"Crm Cd 3\", IntegerType()),\n",
    "    StructField(\"Crm Cd 4\", IntegerType()),\n",
    "    StructField(\"LOCATION\", StringType()),\n",
    "    StructField(\"Cross Street\", StringType()),\n",
    "    StructField(\"LAT\", DoubleType()),\n",
    "    StructField(\"LON\", DoubleType()),\n",
    "])\n",
    "\n",
    "crime_data_df = sc.read.format('csv') \\\n",
    "    .options(header='true') \\\n",
    "    .schema(crime_data_schema) \\\n",
    "    .load(\"hdfs://okeanos-master:54310/user/data/primary/crime_data_2010_2019.csv\")\n",
    "\n",
    "crime_data_df = crime_data_df.withColumn(\"detimestamp\",to_timestamp(\"Date Rptd\", 'yyyy/MM/dd HH:mm:ss'))\n",
    "# df = df.withColumn(\"timestamp\", to_timestamp(\"timestamp_string\", \"yyyy-MM-dd HH:mm:ss\"))\n",
    "\n",
    "rows = crime_data_df.count()\n",
    "print(f\"Crime Data Total Rows : {rows}\")\n",
    "print(f\"Date Rptd: {crime_data_df.dtypes}\")\n"
   ]
  },
  {
   "cell_type": "code",
   "execution_count": 31,
   "id": "2a9dd12c",
   "metadata": {},
   "outputs": [
    {
     "data": {
      "text/plain": [
       "[('DR_NO', 'int'),\n",
       " ('Date Rptd', 'string'),\n",
       " ('DATE OCC', 'string'),\n",
       " ('TIME OCC', 'int'),\n",
       " ('AREA', 'int'),\n",
       " ('AREA NAME', 'string'),\n",
       " ('Rpt Dist No', 'int'),\n",
       " ('Part 1-2', 'int'),\n",
       " ('Crm Cd', 'int'),\n",
       " ('Crm Cd Desc', 'string'),\n",
       " ('Mocodes', 'string'),\n",
       " ('Vict Age', 'int'),\n",
       " ('Vict Sex', 'string'),\n",
       " ('Vict Descent', 'string'),\n",
       " ('Premis Cd', 'int'),\n",
       " ('Premis Desc', 'string'),\n",
       " ('Weapon Used Cd', 'int'),\n",
       " ('Weapon Desc', 'string'),\n",
       " ('Status', 'string'),\n",
       " ('Status Desc', 'string'),\n",
       " ('Crm Cd 1', 'int'),\n",
       " ('Crm Cd 2', 'int'),\n",
       " ('Crm Cd 3', 'int'),\n",
       " ('Crm Cd 4', 'int'),\n",
       " ('LOCATION', 'string'),\n",
       " ('Cross Street', 'string'),\n",
       " ('LAT', 'double'),\n",
       " ('LON', 'double'),\n",
       " ('timestamp', 'timestamp')]"
      ]
     },
     "execution_count": 31,
     "metadata": {},
     "output_type": "execute_result"
    }
   ],
   "source": [
    "# Query 1\n",
    "# query_1 = \"SELECT 'Date Rptd' as date_rptd from \"\n",
    "crime_data_df.createOrReplaceTempView(\"crime_data\")\n",
    "crime_data_query_1 = sc.sql(\"select * from crime_data limit 100\")\n",
    "crime_data_df.dtypes\n"
   ]
  },
  {
   "cell_type": "code",
   "execution_count": 43,
   "id": "54f90708",
   "metadata": {},
   "outputs": [
    {
     "data": {
      "text/plain": [
       "Unnamed: 0          int64\n",
       "DR_NO               int64\n",
       "Date Rptd          object\n",
       "DATE OCC           object\n",
       "TIME OCC            int64\n",
       "AREA              float64\n",
       "AREA NAME          object\n",
       "Rpt Dist No         int64\n",
       "Part 1-2            int64\n",
       "Crm Cd              int64\n",
       "Crm Cd Desc        object\n",
       "Mocodes            object\n",
       "Vict Age            int64\n",
       "Vict Sex           object\n",
       "Vict Descent       object\n",
       "Premis Cd         float64\n",
       "Premis Desc        object\n",
       "Weapon Used Cd    float64\n",
       "Weapon Desc        object\n",
       "Status             object\n",
       "Status Desc        object\n",
       "Crm Cd 1          float64\n",
       "Crm Cd 2          float64\n",
       "Crm Cd 3          float64\n",
       "Crm Cd 4          float64\n",
       "LOCATION           object\n",
       "Cross Street       object\n",
       "LAT               float64\n",
       "LON               float64\n",
       "AREA              float64\n",
       "dtype: object"
      ]
     },
     "execution_count": 43,
     "metadata": {},
     "output_type": "execute_result"
    }
   ],
   "source": [
    "df = pd.read_csv('../data/primary/crime_data.csv', nrows=1000)\n",
    "df.dtypes"
   ]
  }
 ],
 "metadata": {
  "kernelspec": {
   "display_name": "Python 3 (ipykernel)",
   "language": "python",
   "name": "python3"
  },
  "language_info": {
   "codemirror_mode": {
    "name": "ipython",
    "version": 3
   },
   "file_extension": ".py",
   "mimetype": "text/x-python",
   "name": "python",
   "nbconvert_exporter": "python",
   "pygments_lexer": "ipython3",
   "version": "3.10.12"
  }
 },
 "nbformat": 4,
 "nbformat_minor": 5
}
