{
 "cells": [
  {
   "cell_type": "code",
   "execution_count": null,
   "id": "8667758a-80a5-4331-bf2a-d455d43a4ad4",
   "metadata": {},
   "outputs": [],
   "source": [
    "# Spark Config\n",
    "conf = SparkConf() \\\n",
    "    .set(\"spark.master\", \"yarn\") \\\n",
    "    .set(\"spark.eventLog.enabled\", \"true\") \\\n",
    "    .set(\"spark.eventLog.dir\", \"hdfs://okeanos-master:54310/spark.eventLog\") \\\n",
    "    .set(\"spark.history.fs.logDirectory\", \"hdfs://okeanos-master:54310/spark.eventLog\") \\\n",
    "    .set(\"spark.driver.memory\", \"1g\") \\\n",
    "    .set(\"spark.executor.memory\", \"1g\") \\\n",
    "    .set(\"spark.executor.cores\", \"1\") "
   ]
  },
  {
   "cell_type": "code",
   "execution_count": null,
   "id": "17ada9ff",
   "metadata": {},
   "outputs": [],
   "source": [
    "# ----- Query 2 | SQL API\n",
    "\n",
    "crime_data_df.createOrReplaceTempView(\"crime_data\")\n",
    "\n",
    "query_2_sql = \"\"\"\n",
    "\n",
    "WITH OnlyInStreet AS (\n",
    "  SELECT \n",
    "    `TIME OCC` as time,\n",
    "    CASE \n",
    "      WHEN time >= 500 AND time < 1200 THEN 'Morning'\n",
    "      WHEN time >= 1200 AND time < 1700 THEN 'Noon' \n",
    "      WHEN time >= 1700 AND time < 2100 THEN 'Afternoon' \n",
    "      WHEN time >= 2100 AND time < 2400 OR time >=0 AND time < 500 THEN 'Night' \n",
    "    END AS PartOfDay\n",
    "  FROM\n",
    "    crime_data\n",
    "  WHERE\n",
    "    `Premis Desc`='STREET'\n",
    ")\n",
    "\n",
    "SELECT \n",
    "  PartOfDay,\n",
    "  COUNT(PartOFDay) as NumberOfCrimes\n",
    "FROM\n",
    "  OnlyInStreet\n",
    "GROUP BY\n",
    "  PartOfDay\n",
    "ORDER BY\n",
    "  NumberOfCrimes DESC;\n",
    "\"\"\"\n",
    "\n",
    "crime_data_query = sc.sql(query_2_sql).show()"
   ]
  },
  {
   "cell_type": "code",
   "execution_count": null,
   "id": "4cf7d0eb",
   "metadata": {},
   "outputs": [],
   "source": [
    "# ----- Query 3 | SQL API\n",
    "\n",
    "joined_crime_data_df.createOrReplaceTempView(\"joined_crime_data\")\n",
    "\n",
    "def query_3_sql(num, type):\n",
    "  return f\"\"\"\n",
    "\n",
    "  with ranked as (\n",
    "    select \n",
    "      descent,\n",
    "      median_income,\n",
    "      dense_rank() over (order by `median_income` {type}) as rank\n",
    "    from joined_crime_data\n",
    "    where \n",
    "      descent is not null and trim(descent) != ''\n",
    "  ) \n",
    "\n",
    "  select \n",
    "    descent,\n",
    "    count(`median_income`) as rnk\n",
    "  from \n",
    "    ranked\n",
    "  where\n",
    "    rank={num}\n",
    "  group by descent\n",
    "  order by rnk desc;\n",
    "\"\"\"\n",
    "\n",
    "# Print first three\n",
    "for i in range(1,4):\n",
    "  sc.sql(query_3_sql(i, 'desc')).show()\n",
    "\n",
    "# Print last three\n",
    "for i in range(1,4):\n",
    "  sc.sql(query_3_sql(i, 'desc')).show()"
   ]
  }
 ],
 "metadata": {
  "kernelspec": {
   "display_name": "Python 3 (ipykernel)",
   "language": "python",
   "name": "python3"
  },
  "language_info": {
   "codemirror_mode": {
    "name": "ipython",
    "version": 3
   },
   "file_extension": ".py",
   "mimetype": "text/x-python",
   "name": "python",
   "nbconvert_exporter": "python",
   "pygments_lexer": "ipython3",
   "version": "3.10.12"
  }
 },
 "nbformat": 4,
 "nbformat_minor": 5
}
